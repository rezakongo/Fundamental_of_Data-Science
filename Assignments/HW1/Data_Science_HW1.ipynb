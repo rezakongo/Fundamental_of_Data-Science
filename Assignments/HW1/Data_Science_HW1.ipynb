{
  "cells": [
    {
      "cell_type": "markdown",
      "metadata": {
        "id": "view-in-github",
        "colab_type": "text"
      },
      "source": [
        "<a href=\"https://colab.research.google.com/github/rezakongo/Fundamental_of_Data-Science/blob/main/Assignments/HW1/Data_Science_HW1.ipynb\" target=\"_parent\"><img src=\"https://colab.research.google.com/assets/colab-badge.svg\" alt=\"Open In Colab\"/></a>"
      ]
    },
    {
      "cell_type": "markdown",
      "metadata": {
        "id": "8cG6WvBzCD_k"
      },
      "source": [
        "#Item_Item Based Collaborative Filtering"
      ]
    },
    {
      "cell_type": "markdown",
      "metadata": {
        "id": "osfowwthEUMo"
      },
      "source": [
        "##Q1"
      ]
    },
    {
      "cell_type": "markdown",
      "source": [
        "<div dir=rtl>\n",
        "در مرحله اول Recommender System را تعریف میکنیم و سپس به تعریف سیستم‌های توصیه‌گر user_based و item_based میپردازیم و تفاوت‌های آنها را بیان می‌کنیم.\n",
        "طبق تعریف در منابع موجود، سامانه توصیه‌گر یا Recommender System به سیستم‌هایی گویند که با تحلیل رفتار کاربر خود اقدام به معرفی و توصیه بهترین اقلام اعم از اطلاعات و داده و کالا و از این قبیل می‌نماید. \n",
        "\n",
        "حال صورت سوال رویکرد item_based را مورد بررسی قرار داده است که در ادامه این روش را بیان کرده و با رویکرد user_based مقایسه میکنیم.\n",
        "\n",
        "در رویکرد user_based ، الگوریتم برای یک آیتم i توسط کاربر u با ترکیب رتبه‌بندی‌های دیگر کاربران  که مشابه u هستند، رتبه‌بندی می‌کند. مشابه در اینجا به این معنی است که رتبه‌بندی دو کاربر دارای همبستگی پیرسون یا شباهت کسینوسی یا چیزی مشابه است.\n",
        "\n",
        "در رویکرد item_based، ما یک رتبه‌بندی برای آیتم i توسط کاربر u با نگاه کردن به مجموعه‌ای از آیتم‌های مشابه به i که u رتبه‌بندی کرده‌است پیشبینی\n",
        "</div>"
      ],
      "metadata": {
        "id": "o7y_hnq1PpPU"
      }
    },
    {
      "cell_type": "markdown",
      "metadata": {
        "id": "HsVYCaTmEw-K"
      },
      "source": [
        "##Q2\n"
      ]
    },
    {
      "cell_type": "markdown",
      "source": [
        "<div dir=rtl>\n",
        "از معیار شباهت کسینوسی به عنوان یک راه برای حل مشکل فاصله اقلیدسی در ابعاد بالا استفاده می‌کنند. فاصله بین دو نقطه در معیار شباهت کسینوسی به طور ساده کسینوس زاویه بین دو نقطه (بردار) است. این فاصله رو میتوان با ضرب نقطه‌ای بین دو بردار بدست آورد، به شرط اینکه هر دوبردار نرمال شوند.\n",
        "\n",
        "اگر دو بردار دقیقا در یک جهت (راستا) باشند در این صورت شباهت کسیونسی آنها برابر یک خواهد بود.  و اگر جهت دو بردار کاملا متضاد هم باشد در این صورت شباهت کسینوسی آنها برابر منفی یک خواهد بود. به این نکته توجه کنیم که دامنه بردار‌ها اهمیتی در این معیار فاصله ندارد و فقط جهت بردارها اهمیت دارد.\n",
        "\n",
        "###معایب تشابه کسینوسی \n",
        "یکی از معایب تشابه کسینوسی این است که دامنه بردارها اهیمت ندارند و در پروسه محاسبه فاصله مورد استفاده قرار نمی‌گیرند. در عمل، این بدان معنی است که تفاوت در مقادیرها به طور کامل در نظر گرفته نمی‌شود. به عنوان مثال اگر سیستم پیشنهاد دهنده را در نظر بگیرید، در تشابه کسینوس اختلاف مقیاس رتبه‌بندی بین کاربران مختلف در نظر گرفته نمی‌شود.\n",
        "</div>"
      ],
      "metadata": {
        "id": "Ktu5q-gxS9Nu"
      }
    },
    {
      "cell_type": "markdown",
      "metadata": {
        "id": "kMW4eHqxHYej"
      },
      "source": [
        "<div dir=rtl>\n",
        "در ابتدای کار نیاز است جهت محاسبات ماتریسی، کتابخانه Numpy را میبایست Import کنیم.\n",
        "</div>"
      ]
    },
    {
      "cell_type": "code",
      "execution_count": null,
      "metadata": {
        "id": "Ywv_0L0-FHtf"
      },
      "outputs": [],
      "source": [
        "import numpy as np"
      ]
    },
    {
      "cell_type": "markdown",
      "metadata": {
        "id": "ORM2G0uuIGkL"
      },
      "source": [
        "<div dir=rtl>\n",
        "در ادامه باید تابعی را پیاده‌سازی کنیم که دو بردار را ورودی گرفته و در خروجی فاصله‌ی کسینوسی آندو را برگرداند.\n",
        "</div>"
      ]
    },
    {
      "cell_type": "code",
      "execution_count": null,
      "metadata": {
        "id": "Nmqi9nCCFP99"
      },
      "outputs": [],
      "source": [
        "def cosine_similarity(vector_0, vector_1):\n",
        "  cos_sim=np.dot(vector_0, vector_1)/(np.linalg.norm(vector_0)*np.linalg.norm(vector_1))\n",
        "  return cos_sim"
      ]
    },
    {
      "cell_type": "markdown",
      "metadata": {
        "id": "DyJ3yupHIVWl"
      },
      "source": [
        "<div dir=rtl>\n",
        "در نهایت این تابع را با دو ورودی ساده تست میکنیم.\n",
        "</div>"
      ]
    },
    {
      "cell_type": "code",
      "execution_count": null,
      "metadata": {
        "colab": {
          "base_uri": "https://localhost:8080/"
        },
        "id": "GkQgkXO-GK2f",
        "outputId": "3637482b-9ce5-4a4c-d2ae-c7acc1910040"
      },
      "outputs": [
        {
          "output_type": "execute_result",
          "data": {
            "text/plain": [
              "0.7370434740955021"
            ]
          },
          "metadata": {},
          "execution_count": 166
        }
      ],
      "source": [
        "cosine_similarity(np.array([5,3,2]),np.array([1,2,3]))"
      ]
    },
    {
      "cell_type": "markdown",
      "metadata": {
        "id": "DZ8tHJwmE0qF"
      },
      "source": [
        "##Q3"
      ]
    },
    {
      "cell_type": "markdown",
      "source": [
        "<div dir=rtl>\n",
        "جهت انجام عملیات روی داده‌ها باید از کتابخانه pandas استفاده کنیم بدین منظور این کتابخانه را import می‌کنیم.\n",
        "</div>"
      ],
      "metadata": {
        "id": "fLx2-Sp-UPzD"
      }
    },
    {
      "cell_type": "code",
      "execution_count": null,
      "metadata": {
        "id": "1crLpPFYGoDI"
      },
      "outputs": [],
      "source": [
        "import pandas as pd"
      ]
    },
    {
      "cell_type": "markdown",
      "source": [
        "<div dir=rtl>\n",
        "در ادامه اقدام به دو dataset داده شده یعنی item_data و user_data میکنیم\n",
        "</div>"
      ],
      "metadata": {
        "id": "oclg6lejUd7F"
      }
    },
    {
      "cell_type": "code",
      "execution_count": null,
      "metadata": {
        "id": "wzWLd3ZcapBb"
      },
      "outputs": [],
      "source": [
        "item_df=pd.read_csv(\"/content/item-data.csv\")\n",
        "item_df.columns=[\"code\",\"description\"]\n",
        "item_df.set_index(\"code\",inplace=True)\n",
        "\n",
        "user_df=pd.read_csv(\"/content/user-item.csv\")\n",
        "user_df.columns=[\"code\",\"item\",\"number\",\"time\"]"
      ]
    },
    {
      "cell_type": "markdown",
      "source": [
        "<div dir=rtl>\n",
        "به جهت نمایش ۱۰ سطر اول user_data را نشان میدهیم.\n",
        "</div>"
      ],
      "metadata": {
        "id": "sH848CVEUoLh"
      }
    },
    {
      "cell_type": "code",
      "execution_count": null,
      "metadata": {
        "colab": {
          "base_uri": "https://localhost:8080/",
          "height": 363
        },
        "id": "LxThHBPpa3PB",
        "outputId": "5a5dcf32-b7d2-40ba-8c4d-9c91ff03ef6f"
      },
      "outputs": [
        {
          "output_type": "execute_result",
          "data": {
            "text/plain": [
              "    code   item  number                       time\n",
              "0  49723  23395       3  2020-09-18T20:11:04+05:30\n",
              "1  49723  23396       3  2020-09-18T20:11:04+05:30\n",
              "2  31336  20976       3  2020-09-18T20:08:30+05:30\n",
              "3  49721  19853       3  2020-09-18T20:02:20+05:30\n",
              "4  49721  19860       3  2020-09-18T20:02:20+05:30\n",
              "5  49721  19861       3  2020-09-18T20:02:20+05:30\n",
              "6  29987  20976       3  2020-09-18T20:00:11+05:30\n",
              "7  49722  22136       3  2020-09-18T19:59:44+05:30\n",
              "8  49722  22133       3  2020-09-18T19:59:44+05:30\n",
              "9  49722  22134       3  2020-09-18T19:59:44+05:30"
            ],
            "text/html": [
              "\n",
              "  <div id=\"df-f9a99eda-d50e-49b5-9a7d-2002e03a0e4e\">\n",
              "    <div class=\"colab-df-container\">\n",
              "      <div>\n",
              "<style scoped>\n",
              "    .dataframe tbody tr th:only-of-type {\n",
              "        vertical-align: middle;\n",
              "    }\n",
              "\n",
              "    .dataframe tbody tr th {\n",
              "        vertical-align: top;\n",
              "    }\n",
              "\n",
              "    .dataframe thead th {\n",
              "        text-align: right;\n",
              "    }\n",
              "</style>\n",
              "<table border=\"1\" class=\"dataframe\">\n",
              "  <thead>\n",
              "    <tr style=\"text-align: right;\">\n",
              "      <th></th>\n",
              "      <th>code</th>\n",
              "      <th>item</th>\n",
              "      <th>number</th>\n",
              "      <th>time</th>\n",
              "    </tr>\n",
              "  </thead>\n",
              "  <tbody>\n",
              "    <tr>\n",
              "      <th>0</th>\n",
              "      <td>49723</td>\n",
              "      <td>23395</td>\n",
              "      <td>3</td>\n",
              "      <td>2020-09-18T20:11:04+05:30</td>\n",
              "    </tr>\n",
              "    <tr>\n",
              "      <th>1</th>\n",
              "      <td>49723</td>\n",
              "      <td>23396</td>\n",
              "      <td>3</td>\n",
              "      <td>2020-09-18T20:11:04+05:30</td>\n",
              "    </tr>\n",
              "    <tr>\n",
              "      <th>2</th>\n",
              "      <td>31336</td>\n",
              "      <td>20976</td>\n",
              "      <td>3</td>\n",
              "      <td>2020-09-18T20:08:30+05:30</td>\n",
              "    </tr>\n",
              "    <tr>\n",
              "      <th>3</th>\n",
              "      <td>49721</td>\n",
              "      <td>19853</td>\n",
              "      <td>3</td>\n",
              "      <td>2020-09-18T20:02:20+05:30</td>\n",
              "    </tr>\n",
              "    <tr>\n",
              "      <th>4</th>\n",
              "      <td>49721</td>\n",
              "      <td>19860</td>\n",
              "      <td>3</td>\n",
              "      <td>2020-09-18T20:02:20+05:30</td>\n",
              "    </tr>\n",
              "    <tr>\n",
              "      <th>5</th>\n",
              "      <td>49721</td>\n",
              "      <td>19861</td>\n",
              "      <td>3</td>\n",
              "      <td>2020-09-18T20:02:20+05:30</td>\n",
              "    </tr>\n",
              "    <tr>\n",
              "      <th>6</th>\n",
              "      <td>29987</td>\n",
              "      <td>20976</td>\n",
              "      <td>3</td>\n",
              "      <td>2020-09-18T20:00:11+05:30</td>\n",
              "    </tr>\n",
              "    <tr>\n",
              "      <th>7</th>\n",
              "      <td>49722</td>\n",
              "      <td>22136</td>\n",
              "      <td>3</td>\n",
              "      <td>2020-09-18T19:59:44+05:30</td>\n",
              "    </tr>\n",
              "    <tr>\n",
              "      <th>8</th>\n",
              "      <td>49722</td>\n",
              "      <td>22133</td>\n",
              "      <td>3</td>\n",
              "      <td>2020-09-18T19:59:44+05:30</td>\n",
              "    </tr>\n",
              "    <tr>\n",
              "      <th>9</th>\n",
              "      <td>49722</td>\n",
              "      <td>22134</td>\n",
              "      <td>3</td>\n",
              "      <td>2020-09-18T19:59:44+05:30</td>\n",
              "    </tr>\n",
              "  </tbody>\n",
              "</table>\n",
              "</div>\n",
              "      <button class=\"colab-df-convert\" onclick=\"convertToInteractive('df-f9a99eda-d50e-49b5-9a7d-2002e03a0e4e')\"\n",
              "              title=\"Convert this dataframe to an interactive table.\"\n",
              "              style=\"display:none;\">\n",
              "        \n",
              "  <svg xmlns=\"http://www.w3.org/2000/svg\" height=\"24px\"viewBox=\"0 0 24 24\"\n",
              "       width=\"24px\">\n",
              "    <path d=\"M0 0h24v24H0V0z\" fill=\"none\"/>\n",
              "    <path d=\"M18.56 5.44l.94 2.06.94-2.06 2.06-.94-2.06-.94-.94-2.06-.94 2.06-2.06.94zm-11 1L8.5 8.5l.94-2.06 2.06-.94-2.06-.94L8.5 2.5l-.94 2.06-2.06.94zm10 10l.94 2.06.94-2.06 2.06-.94-2.06-.94-.94-2.06-.94 2.06-2.06.94z\"/><path d=\"M17.41 7.96l-1.37-1.37c-.4-.4-.92-.59-1.43-.59-.52 0-1.04.2-1.43.59L10.3 9.45l-7.72 7.72c-.78.78-.78 2.05 0 2.83L4 21.41c.39.39.9.59 1.41.59.51 0 1.02-.2 1.41-.59l7.78-7.78 2.81-2.81c.8-.78.8-2.07 0-2.86zM5.41 20L4 18.59l7.72-7.72 1.47 1.35L5.41 20z\"/>\n",
              "  </svg>\n",
              "      </button>\n",
              "      \n",
              "  <style>\n",
              "    .colab-df-container {\n",
              "      display:flex;\n",
              "      flex-wrap:wrap;\n",
              "      gap: 12px;\n",
              "    }\n",
              "\n",
              "    .colab-df-convert {\n",
              "      background-color: #E8F0FE;\n",
              "      border: none;\n",
              "      border-radius: 50%;\n",
              "      cursor: pointer;\n",
              "      display: none;\n",
              "      fill: #1967D2;\n",
              "      height: 32px;\n",
              "      padding: 0 0 0 0;\n",
              "      width: 32px;\n",
              "    }\n",
              "\n",
              "    .colab-df-convert:hover {\n",
              "      background-color: #E2EBFA;\n",
              "      box-shadow: 0px 1px 2px rgba(60, 64, 67, 0.3), 0px 1px 3px 1px rgba(60, 64, 67, 0.15);\n",
              "      fill: #174EA6;\n",
              "    }\n",
              "\n",
              "    [theme=dark] .colab-df-convert {\n",
              "      background-color: #3B4455;\n",
              "      fill: #D2E3FC;\n",
              "    }\n",
              "\n",
              "    [theme=dark] .colab-df-convert:hover {\n",
              "      background-color: #434B5C;\n",
              "      box-shadow: 0px 1px 3px 1px rgba(0, 0, 0, 0.15);\n",
              "      filter: drop-shadow(0px 1px 2px rgba(0, 0, 0, 0.3));\n",
              "      fill: #FFFFFF;\n",
              "    }\n",
              "  </style>\n",
              "\n",
              "      <script>\n",
              "        const buttonEl =\n",
              "          document.querySelector('#df-f9a99eda-d50e-49b5-9a7d-2002e03a0e4e button.colab-df-convert');\n",
              "        buttonEl.style.display =\n",
              "          google.colab.kernel.accessAllowed ? 'block' : 'none';\n",
              "\n",
              "        async function convertToInteractive(key) {\n",
              "          const element = document.querySelector('#df-f9a99eda-d50e-49b5-9a7d-2002e03a0e4e');\n",
              "          const dataTable =\n",
              "            await google.colab.kernel.invokeFunction('convertToInteractive',\n",
              "                                                     [key], {});\n",
              "          if (!dataTable) return;\n",
              "\n",
              "          const docLinkHtml = 'Like what you see? Visit the ' +\n",
              "            '<a target=\"_blank\" href=https://colab.research.google.com/notebooks/data_table.ipynb>data table notebook</a>'\n",
              "            + ' to learn more about interactive tables.';\n",
              "          element.innerHTML = '';\n",
              "          dataTable['output_type'] = 'display_data';\n",
              "          await google.colab.output.renderOutput(dataTable, element);\n",
              "          const docLink = document.createElement('div');\n",
              "          docLink.innerHTML = docLinkHtml;\n",
              "          element.appendChild(docLink);\n",
              "        }\n",
              "      </script>\n",
              "    </div>\n",
              "  </div>\n",
              "  "
            ]
          },
          "metadata": {},
          "execution_count": 169
        }
      ],
      "source": [
        "user_df[:10]"
      ]
    },
    {
      "cell_type": "markdown",
      "source": [
        "<div dir=rtl>\n",
        "در ادامه از داده‌های کاربران سبد‌های خرید را بر اساس کد کاربر و زمان خرید ایجاد میکنیم. تنها نیاز است با متد groupby بر اساس این دو پارامتر روی داده‌ها گروه‌بندی انجام دهیم.\n",
        "\n",
        "توجه کنید که به علت نوع سیستم توصیه‌گر نوشته شده از این گروه بندی استفاده نمیگردد. چرا که ما قصد داریم روی تمامی خرید های هر کاربر پایش انجام دهیم و همچنین شباهت کاربران و کالاها را در کنار هم مورد بررسی قرار دهیم. بنابراین یک سیستم توصیه گر ترکیبی از دو رویکرد user_based و item_based خواهیم داشت.\n",
        "</div>"
      ],
      "metadata": {
        "id": "tOmyVW6NUxxF"
      }
    },
    {
      "cell_type": "code",
      "execution_count": null,
      "metadata": {
        "colab": {
          "base_uri": "https://localhost:8080/",
          "height": 455
        },
        "id": "x6q4IFaqudOA",
        "outputId": "c16b1f07-6e29-48ff-82a6-7ce52598f677"
      },
      "outputs": [
        {
          "output_type": "execute_result",
          "data": {
            "text/plain": [
              "                                  item  number\n",
              "code  time                                    \n",
              "123   2020-07-06T11:19:39+05:30  17230       3\n",
              "      2020-09-17T20:16:42+05:30  18771       3\n",
              "124   2020-06-29T16:31:02+05:30  19874       3\n",
              "      2020-06-29T16:34:11+05:30  19874       3\n",
              "      2020-06-29T16:50:32+05:30  19874       3\n",
              "...                                ...     ...\n",
              "49715 2020-09-18T19:07:58+05:30  21678       3\n",
              "49719 2020-09-18T19:47:14+05:30  21960       3\n",
              "49721 2020-09-18T20:02:20+05:30  19853       3\n",
              "49722 2020-09-18T19:59:44+05:30  22136       3\n",
              "49723 2020-09-18T20:11:04+05:30  23395       3\n",
              "\n",
              "[3485 rows x 2 columns]"
            ],
            "text/html": [
              "\n",
              "  <div id=\"df-5b8fc31a-904a-44e9-9ce6-36153e2dad32\">\n",
              "    <div class=\"colab-df-container\">\n",
              "      <div>\n",
              "<style scoped>\n",
              "    .dataframe tbody tr th:only-of-type {\n",
              "        vertical-align: middle;\n",
              "    }\n",
              "\n",
              "    .dataframe tbody tr th {\n",
              "        vertical-align: top;\n",
              "    }\n",
              "\n",
              "    .dataframe thead th {\n",
              "        text-align: right;\n",
              "    }\n",
              "</style>\n",
              "<table border=\"1\" class=\"dataframe\">\n",
              "  <thead>\n",
              "    <tr style=\"text-align: right;\">\n",
              "      <th></th>\n",
              "      <th></th>\n",
              "      <th>item</th>\n",
              "      <th>number</th>\n",
              "    </tr>\n",
              "    <tr>\n",
              "      <th>code</th>\n",
              "      <th>time</th>\n",
              "      <th></th>\n",
              "      <th></th>\n",
              "    </tr>\n",
              "  </thead>\n",
              "  <tbody>\n",
              "    <tr>\n",
              "      <th rowspan=\"2\" valign=\"top\">123</th>\n",
              "      <th>2020-07-06T11:19:39+05:30</th>\n",
              "      <td>17230</td>\n",
              "      <td>3</td>\n",
              "    </tr>\n",
              "    <tr>\n",
              "      <th>2020-09-17T20:16:42+05:30</th>\n",
              "      <td>18771</td>\n",
              "      <td>3</td>\n",
              "    </tr>\n",
              "    <tr>\n",
              "      <th rowspan=\"3\" valign=\"top\">124</th>\n",
              "      <th>2020-06-29T16:31:02+05:30</th>\n",
              "      <td>19874</td>\n",
              "      <td>3</td>\n",
              "    </tr>\n",
              "    <tr>\n",
              "      <th>2020-06-29T16:34:11+05:30</th>\n",
              "      <td>19874</td>\n",
              "      <td>3</td>\n",
              "    </tr>\n",
              "    <tr>\n",
              "      <th>2020-06-29T16:50:32+05:30</th>\n",
              "      <td>19874</td>\n",
              "      <td>3</td>\n",
              "    </tr>\n",
              "    <tr>\n",
              "      <th>...</th>\n",
              "      <th>...</th>\n",
              "      <td>...</td>\n",
              "      <td>...</td>\n",
              "    </tr>\n",
              "    <tr>\n",
              "      <th>49715</th>\n",
              "      <th>2020-09-18T19:07:58+05:30</th>\n",
              "      <td>21678</td>\n",
              "      <td>3</td>\n",
              "    </tr>\n",
              "    <tr>\n",
              "      <th>49719</th>\n",
              "      <th>2020-09-18T19:47:14+05:30</th>\n",
              "      <td>21960</td>\n",
              "      <td>3</td>\n",
              "    </tr>\n",
              "    <tr>\n",
              "      <th>49721</th>\n",
              "      <th>2020-09-18T20:02:20+05:30</th>\n",
              "      <td>19853</td>\n",
              "      <td>3</td>\n",
              "    </tr>\n",
              "    <tr>\n",
              "      <th>49722</th>\n",
              "      <th>2020-09-18T19:59:44+05:30</th>\n",
              "      <td>22136</td>\n",
              "      <td>3</td>\n",
              "    </tr>\n",
              "    <tr>\n",
              "      <th>49723</th>\n",
              "      <th>2020-09-18T20:11:04+05:30</th>\n",
              "      <td>23395</td>\n",
              "      <td>3</td>\n",
              "    </tr>\n",
              "  </tbody>\n",
              "</table>\n",
              "<p>3485 rows × 2 columns</p>\n",
              "</div>\n",
              "      <button class=\"colab-df-convert\" onclick=\"convertToInteractive('df-5b8fc31a-904a-44e9-9ce6-36153e2dad32')\"\n",
              "              title=\"Convert this dataframe to an interactive table.\"\n",
              "              style=\"display:none;\">\n",
              "        \n",
              "  <svg xmlns=\"http://www.w3.org/2000/svg\" height=\"24px\"viewBox=\"0 0 24 24\"\n",
              "       width=\"24px\">\n",
              "    <path d=\"M0 0h24v24H0V0z\" fill=\"none\"/>\n",
              "    <path d=\"M18.56 5.44l.94 2.06.94-2.06 2.06-.94-2.06-.94-.94-2.06-.94 2.06-2.06.94zm-11 1L8.5 8.5l.94-2.06 2.06-.94-2.06-.94L8.5 2.5l-.94 2.06-2.06.94zm10 10l.94 2.06.94-2.06 2.06-.94-2.06-.94-.94-2.06-.94 2.06-2.06.94z\"/><path d=\"M17.41 7.96l-1.37-1.37c-.4-.4-.92-.59-1.43-.59-.52 0-1.04.2-1.43.59L10.3 9.45l-7.72 7.72c-.78.78-.78 2.05 0 2.83L4 21.41c.39.39.9.59 1.41.59.51 0 1.02-.2 1.41-.59l7.78-7.78 2.81-2.81c.8-.78.8-2.07 0-2.86zM5.41 20L4 18.59l7.72-7.72 1.47 1.35L5.41 20z\"/>\n",
              "  </svg>\n",
              "      </button>\n",
              "      \n",
              "  <style>\n",
              "    .colab-df-container {\n",
              "      display:flex;\n",
              "      flex-wrap:wrap;\n",
              "      gap: 12px;\n",
              "    }\n",
              "\n",
              "    .colab-df-convert {\n",
              "      background-color: #E8F0FE;\n",
              "      border: none;\n",
              "      border-radius: 50%;\n",
              "      cursor: pointer;\n",
              "      display: none;\n",
              "      fill: #1967D2;\n",
              "      height: 32px;\n",
              "      padding: 0 0 0 0;\n",
              "      width: 32px;\n",
              "    }\n",
              "\n",
              "    .colab-df-convert:hover {\n",
              "      background-color: #E2EBFA;\n",
              "      box-shadow: 0px 1px 2px rgba(60, 64, 67, 0.3), 0px 1px 3px 1px rgba(60, 64, 67, 0.15);\n",
              "      fill: #174EA6;\n",
              "    }\n",
              "\n",
              "    [theme=dark] .colab-df-convert {\n",
              "      background-color: #3B4455;\n",
              "      fill: #D2E3FC;\n",
              "    }\n",
              "\n",
              "    [theme=dark] .colab-df-convert:hover {\n",
              "      background-color: #434B5C;\n",
              "      box-shadow: 0px 1px 3px 1px rgba(0, 0, 0, 0.15);\n",
              "      filter: drop-shadow(0px 1px 2px rgba(0, 0, 0, 0.3));\n",
              "      fill: #FFFFFF;\n",
              "    }\n",
              "  </style>\n",
              "\n",
              "      <script>\n",
              "        const buttonEl =\n",
              "          document.querySelector('#df-5b8fc31a-904a-44e9-9ce6-36153e2dad32 button.colab-df-convert');\n",
              "        buttonEl.style.display =\n",
              "          google.colab.kernel.accessAllowed ? 'block' : 'none';\n",
              "\n",
              "        async function convertToInteractive(key) {\n",
              "          const element = document.querySelector('#df-5b8fc31a-904a-44e9-9ce6-36153e2dad32');\n",
              "          const dataTable =\n",
              "            await google.colab.kernel.invokeFunction('convertToInteractive',\n",
              "                                                     [key], {});\n",
              "          if (!dataTable) return;\n",
              "\n",
              "          const docLinkHtml = 'Like what you see? Visit the ' +\n",
              "            '<a target=\"_blank\" href=https://colab.research.google.com/notebooks/data_table.ipynb>data table notebook</a>'\n",
              "            + ' to learn more about interactive tables.';\n",
              "          element.innerHTML = '';\n",
              "          dataTable['output_type'] = 'display_data';\n",
              "          await google.colab.output.renderOutput(dataTable, element);\n",
              "          const docLink = document.createElement('div');\n",
              "          docLink.innerHTML = docLinkHtml;\n",
              "          element.appendChild(docLink);\n",
              "        }\n",
              "      </script>\n",
              "    </div>\n",
              "  </div>\n",
              "  "
            ]
          },
          "metadata": {},
          "execution_count": 170
        }
      ],
      "source": [
        "baskets = user_df.groupby(['code', 'time'])\n",
        "baskets.first()"
      ]
    },
    {
      "cell_type": "markdown",
      "metadata": {
        "id": "BVIRRxQBE3Fv"
      },
      "source": [
        "##Q4"
      ]
    },
    {
      "cell_type": "markdown",
      "source": [
        "<div dir=rtl>\n",
        "قصد داریم به هر آیتم یک بردار نسبت دهیم تا به کمک آنها بتوانیم طبق توضیحات آنها شباهت آنها را پیدا کنیم. یکی از بدترین روش‌ها استفاده از one_hot encoding است. در واثع ما به هر کلمه موجود در توضیحات یک بردار نسبت می‌دهیم که ۱ عنصر آن برابر ۱ و بقیه عناصر آن برابر صفر هستند.\n",
        "</div>"
      ],
      "metadata": {
        "id": "M5HHZswlVkWd"
      }
    },
    {
      "cell_type": "code",
      "execution_count": null,
      "metadata": {
        "id": "mQLhlfBecCYb"
      },
      "outputs": [],
      "source": [
        "one_hot_encoding={}\n",
        "words_set=set()\n",
        "\n",
        "for item_description in item_df[\"description\"][:]:\n",
        "  for word in item_description.split(' '):\n",
        "    words_set.add(word)\n",
        "\n",
        "words_set=list(words_set)\n",
        "for i in range(len(words_set)):\n",
        "  one_hot=np.zeros(len(words_set))\n",
        "  one_hot[i]=1\n",
        "  one_hot_encoding[words_set[i]]=one_hot"
      ]
    },
    {
      "cell_type": "markdown",
      "source": [
        "<div dir=rtl>\n",
        " حال نیاز است که به کل توضیحات یک کالا هم یک بردار نسبت دهیم بنابراین میتوانیم از حاصل جمع بردار‌های کلمات موجود در توضیحات کالا استفاده کنیم. برای همین به این روش ما میتوانیم برای هر کالا طبق توضیحات آن یک one_hot vector نسبت دهیم.\n",
        "</div>"
      ],
      "metadata": {
        "id": "WXXmlMIlWTMB"
      }
    },
    {
      "cell_type": "code",
      "execution_count": null,
      "metadata": {
        "id": "xaTAK-KDgp5g"
      },
      "outputs": [],
      "source": [
        "def apply_one_hot_to_df(description):\n",
        "  incoding=np.zeros(len(words_set))\n",
        "  for word in description.split():\n",
        "    incoding+=one_hot_encoding[word]\n",
        "  \n",
        "  return incoding\n",
        "\n",
        "\n",
        "item_df['one_hot']=item_df['description'].apply(apply_one_hot_to_df)\n"
      ]
    },
    {
      "cell_type": "code",
      "source": [
        "item_df"
      ],
      "metadata": {
        "colab": {
          "base_uri": "https://localhost:8080/",
          "height": 455
        },
        "id": "F6Vf0QaNtTbR",
        "outputId": "23551e98-042f-40c8-db65-bc6db33fcef9"
      },
      "execution_count": null,
      "outputs": [
        {
          "output_type": "execute_result",
          "data": {
            "text/plain": [
              "                                             description  \\\n",
              "code                                                       \n",
              "19002  Farm Naturelle-100 Pure Virgin-organic Coconut...   \n",
              "19003  Farm Naturelle-100 Pure Virgin-organic Coconut...   \n",
              "19004  Farm Naturelle-100 Pure Virgin-organic Coconut...   \n",
              "19005  Farm Naturelle-100 Pure Virgin-organic Coconut...   \n",
              "19006  Farm Naturelle-100 Pure Virgin Organic Coconut...   \n",
              "...                                                  ...   \n",
              "23514                         TIRUPATI KACHI GHANI 1 LTR   \n",
              "23515                   ANKUR GROUNDNUT OIL 1 LTR BOTTLE   \n",
              "23516                 ANKUR GROUNDNUT OIL 500 LTR BOTTLE   \n",
              "23517                                     KORNDROP 15 KG   \n",
              "23518                                                  1   \n",
              "\n",
              "                                                 one_hot  \n",
              "code                                                      \n",
              "19002  [0.0, 0.0, 0.0, 0.0, 0.0, 0.0, 0.0, 0.0, 0.0, ...  \n",
              "19003  [0.0, 0.0, 0.0, 0.0, 0.0, 0.0, 0.0, 0.0, 0.0, ...  \n",
              "19004  [0.0, 0.0, 0.0, 0.0, 0.0, 0.0, 0.0, 0.0, 0.0, ...  \n",
              "19005  [0.0, 0.0, 0.0, 0.0, 0.0, 0.0, 0.0, 0.0, 0.0, ...  \n",
              "19006  [0.0, 0.0, 0.0, 0.0, 0.0, 0.0, 0.0, 0.0, 0.0, ...  \n",
              "...                                                  ...  \n",
              "23514  [0.0, 0.0, 0.0, 0.0, 0.0, 0.0, 0.0, 0.0, 0.0, ...  \n",
              "23515  [0.0, 0.0, 0.0, 0.0, 0.0, 0.0, 0.0, 0.0, 0.0, ...  \n",
              "23516  [0.0, 0.0, 0.0, 0.0, 0.0, 0.0, 0.0, 0.0, 0.0, ...  \n",
              "23517  [0.0, 0.0, 0.0, 0.0, 0.0, 0.0, 0.0, 0.0, 0.0, ...  \n",
              "23518  [0.0, 0.0, 0.0, 0.0, 0.0, 0.0, 0.0, 0.0, 0.0, ...  \n",
              "\n",
              "[3526 rows x 2 columns]"
            ],
            "text/html": [
              "\n",
              "  <div id=\"df-a272762e-3c6d-4658-aa28-81173be6690b\">\n",
              "    <div class=\"colab-df-container\">\n",
              "      <div>\n",
              "<style scoped>\n",
              "    .dataframe tbody tr th:only-of-type {\n",
              "        vertical-align: middle;\n",
              "    }\n",
              "\n",
              "    .dataframe tbody tr th {\n",
              "        vertical-align: top;\n",
              "    }\n",
              "\n",
              "    .dataframe thead th {\n",
              "        text-align: right;\n",
              "    }\n",
              "</style>\n",
              "<table border=\"1\" class=\"dataframe\">\n",
              "  <thead>\n",
              "    <tr style=\"text-align: right;\">\n",
              "      <th></th>\n",
              "      <th>description</th>\n",
              "      <th>one_hot</th>\n",
              "    </tr>\n",
              "    <tr>\n",
              "      <th>code</th>\n",
              "      <th></th>\n",
              "      <th></th>\n",
              "    </tr>\n",
              "  </thead>\n",
              "  <tbody>\n",
              "    <tr>\n",
              "      <th>19002</th>\n",
              "      <td>Farm Naturelle-100 Pure Virgin-organic Coconut...</td>\n",
              "      <td>[0.0, 0.0, 0.0, 0.0, 0.0, 0.0, 0.0, 0.0, 0.0, ...</td>\n",
              "    </tr>\n",
              "    <tr>\n",
              "      <th>19003</th>\n",
              "      <td>Farm Naturelle-100 Pure Virgin-organic Coconut...</td>\n",
              "      <td>[0.0, 0.0, 0.0, 0.0, 0.0, 0.0, 0.0, 0.0, 0.0, ...</td>\n",
              "    </tr>\n",
              "    <tr>\n",
              "      <th>19004</th>\n",
              "      <td>Farm Naturelle-100 Pure Virgin-organic Coconut...</td>\n",
              "      <td>[0.0, 0.0, 0.0, 0.0, 0.0, 0.0, 0.0, 0.0, 0.0, ...</td>\n",
              "    </tr>\n",
              "    <tr>\n",
              "      <th>19005</th>\n",
              "      <td>Farm Naturelle-100 Pure Virgin-organic Coconut...</td>\n",
              "      <td>[0.0, 0.0, 0.0, 0.0, 0.0, 0.0, 0.0, 0.0, 0.0, ...</td>\n",
              "    </tr>\n",
              "    <tr>\n",
              "      <th>19006</th>\n",
              "      <td>Farm Naturelle-100 Pure Virgin Organic Coconut...</td>\n",
              "      <td>[0.0, 0.0, 0.0, 0.0, 0.0, 0.0, 0.0, 0.0, 0.0, ...</td>\n",
              "    </tr>\n",
              "    <tr>\n",
              "      <th>...</th>\n",
              "      <td>...</td>\n",
              "      <td>...</td>\n",
              "    </tr>\n",
              "    <tr>\n",
              "      <th>23514</th>\n",
              "      <td>TIRUPATI KACHI GHANI 1 LTR</td>\n",
              "      <td>[0.0, 0.0, 0.0, 0.0, 0.0, 0.0, 0.0, 0.0, 0.0, ...</td>\n",
              "    </tr>\n",
              "    <tr>\n",
              "      <th>23515</th>\n",
              "      <td>ANKUR GROUNDNUT OIL 1 LTR BOTTLE</td>\n",
              "      <td>[0.0, 0.0, 0.0, 0.0, 0.0, 0.0, 0.0, 0.0, 0.0, ...</td>\n",
              "    </tr>\n",
              "    <tr>\n",
              "      <th>23516</th>\n",
              "      <td>ANKUR GROUNDNUT OIL 500 LTR BOTTLE</td>\n",
              "      <td>[0.0, 0.0, 0.0, 0.0, 0.0, 0.0, 0.0, 0.0, 0.0, ...</td>\n",
              "    </tr>\n",
              "    <tr>\n",
              "      <th>23517</th>\n",
              "      <td>KORNDROP 15 KG</td>\n",
              "      <td>[0.0, 0.0, 0.0, 0.0, 0.0, 0.0, 0.0, 0.0, 0.0, ...</td>\n",
              "    </tr>\n",
              "    <tr>\n",
              "      <th>23518</th>\n",
              "      <td>1</td>\n",
              "      <td>[0.0, 0.0, 0.0, 0.0, 0.0, 0.0, 0.0, 0.0, 0.0, ...</td>\n",
              "    </tr>\n",
              "  </tbody>\n",
              "</table>\n",
              "<p>3526 rows × 2 columns</p>\n",
              "</div>\n",
              "      <button class=\"colab-df-convert\" onclick=\"convertToInteractive('df-a272762e-3c6d-4658-aa28-81173be6690b')\"\n",
              "              title=\"Convert this dataframe to an interactive table.\"\n",
              "              style=\"display:none;\">\n",
              "        \n",
              "  <svg xmlns=\"http://www.w3.org/2000/svg\" height=\"24px\"viewBox=\"0 0 24 24\"\n",
              "       width=\"24px\">\n",
              "    <path d=\"M0 0h24v24H0V0z\" fill=\"none\"/>\n",
              "    <path d=\"M18.56 5.44l.94 2.06.94-2.06 2.06-.94-2.06-.94-.94-2.06-.94 2.06-2.06.94zm-11 1L8.5 8.5l.94-2.06 2.06-.94-2.06-.94L8.5 2.5l-.94 2.06-2.06.94zm10 10l.94 2.06.94-2.06 2.06-.94-2.06-.94-.94-2.06-.94 2.06-2.06.94z\"/><path d=\"M17.41 7.96l-1.37-1.37c-.4-.4-.92-.59-1.43-.59-.52 0-1.04.2-1.43.59L10.3 9.45l-7.72 7.72c-.78.78-.78 2.05 0 2.83L4 21.41c.39.39.9.59 1.41.59.51 0 1.02-.2 1.41-.59l7.78-7.78 2.81-2.81c.8-.78.8-2.07 0-2.86zM5.41 20L4 18.59l7.72-7.72 1.47 1.35L5.41 20z\"/>\n",
              "  </svg>\n",
              "      </button>\n",
              "      \n",
              "  <style>\n",
              "    .colab-df-container {\n",
              "      display:flex;\n",
              "      flex-wrap:wrap;\n",
              "      gap: 12px;\n",
              "    }\n",
              "\n",
              "    .colab-df-convert {\n",
              "      background-color: #E8F0FE;\n",
              "      border: none;\n",
              "      border-radius: 50%;\n",
              "      cursor: pointer;\n",
              "      display: none;\n",
              "      fill: #1967D2;\n",
              "      height: 32px;\n",
              "      padding: 0 0 0 0;\n",
              "      width: 32px;\n",
              "    }\n",
              "\n",
              "    .colab-df-convert:hover {\n",
              "      background-color: #E2EBFA;\n",
              "      box-shadow: 0px 1px 2px rgba(60, 64, 67, 0.3), 0px 1px 3px 1px rgba(60, 64, 67, 0.15);\n",
              "      fill: #174EA6;\n",
              "    }\n",
              "\n",
              "    [theme=dark] .colab-df-convert {\n",
              "      background-color: #3B4455;\n",
              "      fill: #D2E3FC;\n",
              "    }\n",
              "\n",
              "    [theme=dark] .colab-df-convert:hover {\n",
              "      background-color: #434B5C;\n",
              "      box-shadow: 0px 1px 3px 1px rgba(0, 0, 0, 0.15);\n",
              "      filter: drop-shadow(0px 1px 2px rgba(0, 0, 0, 0.3));\n",
              "      fill: #FFFFFF;\n",
              "    }\n",
              "  </style>\n",
              "\n",
              "      <script>\n",
              "        const buttonEl =\n",
              "          document.querySelector('#df-a272762e-3c6d-4658-aa28-81173be6690b button.colab-df-convert');\n",
              "        buttonEl.style.display =\n",
              "          google.colab.kernel.accessAllowed ? 'block' : 'none';\n",
              "\n",
              "        async function convertToInteractive(key) {\n",
              "          const element = document.querySelector('#df-a272762e-3c6d-4658-aa28-81173be6690b');\n",
              "          const dataTable =\n",
              "            await google.colab.kernel.invokeFunction('convertToInteractive',\n",
              "                                                     [key], {});\n",
              "          if (!dataTable) return;\n",
              "\n",
              "          const docLinkHtml = 'Like what you see? Visit the ' +\n",
              "            '<a target=\"_blank\" href=https://colab.research.google.com/notebooks/data_table.ipynb>data table notebook</a>'\n",
              "            + ' to learn more about interactive tables.';\n",
              "          element.innerHTML = '';\n",
              "          dataTable['output_type'] = 'display_data';\n",
              "          await google.colab.output.renderOutput(dataTable, element);\n",
              "          const docLink = document.createElement('div');\n",
              "          docLink.innerHTML = docLinkHtml;\n",
              "          element.appendChild(docLink);\n",
              "        }\n",
              "      </script>\n",
              "    </div>\n",
              "  </div>\n",
              "  "
            ]
          },
          "metadata": {},
          "execution_count": 186
        }
      ]
    },
    {
      "cell_type": "markdown",
      "source": [
        "<div dir=rtl>\n",
        "در نهایت تابعی مینویسیم که با دریافت کد ۲ کالا بتواند شباهت آنها را پیدا کند.\n",
        "</div>"
      ],
      "metadata": {
        "id": "x1gg6cVDWt-N"
      }
    },
    {
      "cell_type": "code",
      "execution_count": null,
      "metadata": {
        "id": "MworplgFlSKo"
      },
      "outputs": [],
      "source": [
        "def item_similarity(item0,item1):\n",
        "  return cosine_similarity(item_df.loc[item0]['one_hot'],item_df.loc[item1]['one_hot'])\n"
      ]
    },
    {
      "cell_type": "code",
      "execution_count": null,
      "metadata": {
        "colab": {
          "base_uri": "https://localhost:8080/"
        },
        "id": "0BDFeZmeno50",
        "outputId": "2bdd3c4f-01d3-4c24-feaa-ab0a33be009b"
      },
      "outputs": [
        {
          "output_type": "stream",
          "name": "stdout",
          "text": [
            "0.5345224838248487\n"
          ]
        }
      ],
      "source": [
        "print(item_similarity(19006,19011))"
      ]
    },
    {
      "cell_type": "markdown",
      "metadata": {
        "id": "Kbjh9-OGE5BL"
      },
      "source": [
        "##Q5"
      ]
    },
    {
      "cell_type": "markdown",
      "source": [
        "<div dir=rtl>\n",
        "حال قصد داریم یک سامانه توصیه‌گر طراحی کنیم. با این تفاوت که این سامانه تنها item_based نیست بلکه تلفیقی است از رویکرد item_based و user_based.\n",
        "\n",
        "بدین جهت ابتدا نزدیک ترین user ها به user مورد بررسی را پیدا می‌کند و در ادامه از item های خریداری شده توسط آنها مشابه ترین کالا ها را انتخاب کرده و پیشتهاد میدهد.\n",
        "</div>"
      ],
      "metadata": {
        "id": "ppsXgvk3W5SI"
      }
    },
    {
      "cell_type": "markdown",
      "source": [
        "<div dir=rtl>\n",
        "در ابتدا چون که ما میخواهیم کل داده ها را برای user بگیریم در واقع تمامی کالا های خریداری شده را داشته باشیم از گروه بندی قسمت دوم استفاده نمیکنیم. بلکه یک دیکشنری ساخته و تمامی کالا‌های حریداری شده توسط هر کاربر را در یک لیست ذخیره می‌کنیم.\n",
        "</div>"
      ],
      "metadata": {
        "id": "ahMYelxzXX0K"
      }
    },
    {
      "cell_type": "code",
      "execution_count": null,
      "metadata": {
        "id": "FyX6zFDB2tOR"
      },
      "outputs": [],
      "source": [
        "uh=user_df.groupby(\"code\")\n",
        "user_purchases={}\n",
        "user_encoding={}\n",
        "\n",
        "for name, entries in uh:\n",
        "    purchased=set()\n",
        "    for item in entries['item']:\n",
        "      purchased.add(item)\n",
        "    \n",
        "    user_purchases[name]=list(purchased)\n",
        "\n"
      ]
    },
    {
      "cell_type": "markdown",
      "source": [
        "<div dir=rtl>\n",
        "حال نیاز است به هر کاربر ۲ عدد encoding اختصاص بدهیم.\n",
        "\n",
        "یکی از encoding ها وظیفه مقایسه با سایر کاربران را دارد و دیگری وظیفه مقایسه با کالا‌ها را دارد.\n",
        "\n",
        "در encoding اول ما نیاز داریم که با سایر کاربران مقایسه کنیم برای همین از حاصل جمع بردار‌های کالا‌های خریداری شده استفاده کنیم.\n",
        "\n",
        "در encoding دوم نیاز است که بتوانیم کالا ها را از روی آن تخمین بزنیم برای همین از میانگین بردار‌های کالا‌های خریداری شده استفاده می‌کنیم.\n",
        "</div>"
      ],
      "metadata": {
        "id": "U1v9bvDnX1fo"
      }
    },
    {
      "cell_type": "code",
      "execution_count": null,
      "metadata": {
        "id": "Ya1u81q0F3Xz"
      },
      "outputs": [],
      "source": [
        "def get_user_orders_sum_encoding(user_id):\n",
        "  items=[]\n",
        "  for item in user_purchases[user_id]:\n",
        "    if item in item_df.index:\n",
        "      items.append(item_df.loc[item]['one_hot'])\n",
        "\n",
        "  items=np.array(items)\n",
        "  items=np.sum(items, axis=0)\n",
        "  items = np.where(items >= 1, 1, 0)\n",
        "  return items"
      ]
    },
    {
      "cell_type": "code",
      "execution_count": null,
      "metadata": {
        "id": "vv5x3kT9WSXT"
      },
      "outputs": [],
      "source": [
        "def get_user_orders_avg_encoding(user_id):\n",
        "  items=[]\n",
        "  for item in user_purchases[user_id]:\n",
        "    if item in item_df.index:\n",
        "      items.append(item_df.loc[item]['one_hot'])\n",
        "\n",
        "  items=np.array(items)\n",
        "  items=np.average(items, axis=0)\n",
        "  return items"
      ]
    },
    {
      "cell_type": "markdown",
      "source": [
        "<div dir=rtl>\n",
        "در ادامه یک مجموعه داده فیلتر شده نیاز داریم. در این مجموعه داده تنها کد کاربران به همراه ۲ نوع encoding که در قسمت قبل مورد بررسی قرار گرفت وجود دارد.\n",
        "\n",
        "همچنین یک فیلترینگ ساده روی داده ها اعمال میکنیم که داده های پرت از بین بروند. برای مثال کاربرانی که هیچ کالایی خریداری نکرده اند خذف میشوند و باید به صورت تصادفی یا پر کردن فرم به آنها توضیه صورت بگیرد.\n",
        "</div>"
      ],
      "metadata": {
        "id": "o-8t-BB9Yf1J"
      }
    },
    {
      "cell_type": "code",
      "execution_count": null,
      "metadata": {
        "colab": {
          "base_uri": "https://localhost:8080/",
          "height": 489
        },
        "id": "xwKMEVKDNqnB",
        "outputId": "b0d7f944-f364-4180-b447-e66b9ccf2a58"
      },
      "outputs": [
        {
          "output_type": "stream",
          "name": "stderr",
          "text": [
            "/usr/local/lib/python3.9/dist-packages/numpy/lib/function_base.py:495: RuntimeWarning: Mean of empty slice.\n",
            "  avg = a.mean(axis)\n"
          ]
        },
        {
          "output_type": "execute_result",
          "data": {
            "text/plain": [
              "                                            sum_encoding  \\\n",
              "code                                                       \n",
              "49723  [0, 0, 0, 0, 0, 0, 0, 0, 0, 0, 0, 0, 1, 0, 0, ...   \n",
              "31336  [0, 0, 0, 0, 0, 0, 0, 0, 0, 0, 0, 0, 0, 0, 0, ...   \n",
              "49721  [0, 0, 0, 0, 0, 0, 0, 0, 0, 0, 0, 0, 0, 0, 0, ...   \n",
              "29987  [0, 0, 0, 0, 0, 0, 0, 0, 0, 0, 0, 0, 0, 0, 0, ...   \n",
              "49722  [0, 0, 0, 0, 0, 0, 0, 0, 0, 0, 0, 0, 0, 0, 0, ...   \n",
              "...                                                  ...   \n",
              "40103  [0, 0, 0, 0, 0, 0, 0, 0, 0, 0, 0, 0, 0, 0, 0, ...   \n",
              "40102  [0, 0, 0, 0, 0, 0, 0, 0, 0, 0, 0, 0, 0, 0, 0, ...   \n",
              "40099  [0, 0, 0, 0, 0, 0, 0, 0, 0, 0, 0, 0, 0, 0, 0, ...   \n",
              "40095  [0, 0, 0, 0, 0, 0, 0, 0, 0, 0, 0, 0, 0, 0, 0, ...   \n",
              "2895   [0, 0, 0, 0, 0, 0, 0, 0, 0, 0, 0, 0, 0, 0, 0, ...   \n",
              "\n",
              "                                            avg_encoding  \n",
              "code                                                      \n",
              "49723  [0.0, 0.0, 0.0, 0.0, 0.0, 0.0, 0.0, 0.0, 0.0, ...  \n",
              "31336  [0.0, 0.0, 0.0, 0.0, 0.0, 0.0, 0.0, 0.0, 0.0, ...  \n",
              "49721  [0.0, 0.0, 0.0, 0.0, 0.0, 0.0, 0.0, 0.0, 0.0, ...  \n",
              "29987  [0.0, 0.0, 0.0, 0.0, 0.0, 0.0, 0.0, 0.0, 0.0, ...  \n",
              "49722  [0.0, 0.0, 0.0, 0.0, 0.0, 0.0, 0.0, 0.0, 0.0, ...  \n",
              "...                                                  ...  \n",
              "40103  [0.0, 0.0, 0.0, 0.0, 0.0, 0.0, 0.0, 0.0, 0.0, ...  \n",
              "40102  [0.0, 0.0, 0.0, 0.0, 0.0, 0.0, 0.0, 0.0, 0.0, ...  \n",
              "40099  [0.0, 0.0, 0.0, 0.0, 0.0, 0.0, 0.0, 0.0, 0.0, ...  \n",
              "40095  [0.0, 0.0, 0.0, 0.0, 0.0, 0.0, 0.0, 0.0, 0.0, ...  \n",
              "2895   [0.0, 0.0, 0.0, 0.0, 0.0, 0.0, 0.0, 0.0, 0.0, ...  \n",
              "\n",
              "[178 rows x 2 columns]"
            ],
            "text/html": [
              "\n",
              "  <div id=\"df-4dfaead3-21d6-4eea-b5d7-2a167a67ba1b\">\n",
              "    <div class=\"colab-df-container\">\n",
              "      <div>\n",
              "<style scoped>\n",
              "    .dataframe tbody tr th:only-of-type {\n",
              "        vertical-align: middle;\n",
              "    }\n",
              "\n",
              "    .dataframe tbody tr th {\n",
              "        vertical-align: top;\n",
              "    }\n",
              "\n",
              "    .dataframe thead th {\n",
              "        text-align: right;\n",
              "    }\n",
              "</style>\n",
              "<table border=\"1\" class=\"dataframe\">\n",
              "  <thead>\n",
              "    <tr style=\"text-align: right;\">\n",
              "      <th></th>\n",
              "      <th>sum_encoding</th>\n",
              "      <th>avg_encoding</th>\n",
              "    </tr>\n",
              "    <tr>\n",
              "      <th>code</th>\n",
              "      <th></th>\n",
              "      <th></th>\n",
              "    </tr>\n",
              "  </thead>\n",
              "  <tbody>\n",
              "    <tr>\n",
              "      <th>49723</th>\n",
              "      <td>[0, 0, 0, 0, 0, 0, 0, 0, 0, 0, 0, 0, 1, 0, 0, ...</td>\n",
              "      <td>[0.0, 0.0, 0.0, 0.0, 0.0, 0.0, 0.0, 0.0, 0.0, ...</td>\n",
              "    </tr>\n",
              "    <tr>\n",
              "      <th>31336</th>\n",
              "      <td>[0, 0, 0, 0, 0, 0, 0, 0, 0, 0, 0, 0, 0, 0, 0, ...</td>\n",
              "      <td>[0.0, 0.0, 0.0, 0.0, 0.0, 0.0, 0.0, 0.0, 0.0, ...</td>\n",
              "    </tr>\n",
              "    <tr>\n",
              "      <th>49721</th>\n",
              "      <td>[0, 0, 0, 0, 0, 0, 0, 0, 0, 0, 0, 0, 0, 0, 0, ...</td>\n",
              "      <td>[0.0, 0.0, 0.0, 0.0, 0.0, 0.0, 0.0, 0.0, 0.0, ...</td>\n",
              "    </tr>\n",
              "    <tr>\n",
              "      <th>29987</th>\n",
              "      <td>[0, 0, 0, 0, 0, 0, 0, 0, 0, 0, 0, 0, 0, 0, 0, ...</td>\n",
              "      <td>[0.0, 0.0, 0.0, 0.0, 0.0, 0.0, 0.0, 0.0, 0.0, ...</td>\n",
              "    </tr>\n",
              "    <tr>\n",
              "      <th>49722</th>\n",
              "      <td>[0, 0, 0, 0, 0, 0, 0, 0, 0, 0, 0, 0, 0, 0, 0, ...</td>\n",
              "      <td>[0.0, 0.0, 0.0, 0.0, 0.0, 0.0, 0.0, 0.0, 0.0, ...</td>\n",
              "    </tr>\n",
              "    <tr>\n",
              "      <th>...</th>\n",
              "      <td>...</td>\n",
              "      <td>...</td>\n",
              "    </tr>\n",
              "    <tr>\n",
              "      <th>40103</th>\n",
              "      <td>[0, 0, 0, 0, 0, 0, 0, 0, 0, 0, 0, 0, 0, 0, 0, ...</td>\n",
              "      <td>[0.0, 0.0, 0.0, 0.0, 0.0, 0.0, 0.0, 0.0, 0.0, ...</td>\n",
              "    </tr>\n",
              "    <tr>\n",
              "      <th>40102</th>\n",
              "      <td>[0, 0, 0, 0, 0, 0, 0, 0, 0, 0, 0, 0, 0, 0, 0, ...</td>\n",
              "      <td>[0.0, 0.0, 0.0, 0.0, 0.0, 0.0, 0.0, 0.0, 0.0, ...</td>\n",
              "    </tr>\n",
              "    <tr>\n",
              "      <th>40099</th>\n",
              "      <td>[0, 0, 0, 0, 0, 0, 0, 0, 0, 0, 0, 0, 0, 0, 0, ...</td>\n",
              "      <td>[0.0, 0.0, 0.0, 0.0, 0.0, 0.0, 0.0, 0.0, 0.0, ...</td>\n",
              "    </tr>\n",
              "    <tr>\n",
              "      <th>40095</th>\n",
              "      <td>[0, 0, 0, 0, 0, 0, 0, 0, 0, 0, 0, 0, 0, 0, 0, ...</td>\n",
              "      <td>[0.0, 0.0, 0.0, 0.0, 0.0, 0.0, 0.0, 0.0, 0.0, ...</td>\n",
              "    </tr>\n",
              "    <tr>\n",
              "      <th>2895</th>\n",
              "      <td>[0, 0, 0, 0, 0, 0, 0, 0, 0, 0, 0, 0, 0, 0, 0, ...</td>\n",
              "      <td>[0.0, 0.0, 0.0, 0.0, 0.0, 0.0, 0.0, 0.0, 0.0, ...</td>\n",
              "    </tr>\n",
              "  </tbody>\n",
              "</table>\n",
              "<p>178 rows × 2 columns</p>\n",
              "</div>\n",
              "      <button class=\"colab-df-convert\" onclick=\"convertToInteractive('df-4dfaead3-21d6-4eea-b5d7-2a167a67ba1b')\"\n",
              "              title=\"Convert this dataframe to an interactive table.\"\n",
              "              style=\"display:none;\">\n",
              "        \n",
              "  <svg xmlns=\"http://www.w3.org/2000/svg\" height=\"24px\"viewBox=\"0 0 24 24\"\n",
              "       width=\"24px\">\n",
              "    <path d=\"M0 0h24v24H0V0z\" fill=\"none\"/>\n",
              "    <path d=\"M18.56 5.44l.94 2.06.94-2.06 2.06-.94-2.06-.94-.94-2.06-.94 2.06-2.06.94zm-11 1L8.5 8.5l.94-2.06 2.06-.94-2.06-.94L8.5 2.5l-.94 2.06-2.06.94zm10 10l.94 2.06.94-2.06 2.06-.94-2.06-.94-.94-2.06-.94 2.06-2.06.94z\"/><path d=\"M17.41 7.96l-1.37-1.37c-.4-.4-.92-.59-1.43-.59-.52 0-1.04.2-1.43.59L10.3 9.45l-7.72 7.72c-.78.78-.78 2.05 0 2.83L4 21.41c.39.39.9.59 1.41.59.51 0 1.02-.2 1.41-.59l7.78-7.78 2.81-2.81c.8-.78.8-2.07 0-2.86zM5.41 20L4 18.59l7.72-7.72 1.47 1.35L5.41 20z\"/>\n",
              "  </svg>\n",
              "      </button>\n",
              "      \n",
              "  <style>\n",
              "    .colab-df-container {\n",
              "      display:flex;\n",
              "      flex-wrap:wrap;\n",
              "      gap: 12px;\n",
              "    }\n",
              "\n",
              "    .colab-df-convert {\n",
              "      background-color: #E8F0FE;\n",
              "      border: none;\n",
              "      border-radius: 50%;\n",
              "      cursor: pointer;\n",
              "      display: none;\n",
              "      fill: #1967D2;\n",
              "      height: 32px;\n",
              "      padding: 0 0 0 0;\n",
              "      width: 32px;\n",
              "    }\n",
              "\n",
              "    .colab-df-convert:hover {\n",
              "      background-color: #E2EBFA;\n",
              "      box-shadow: 0px 1px 2px rgba(60, 64, 67, 0.3), 0px 1px 3px 1px rgba(60, 64, 67, 0.15);\n",
              "      fill: #174EA6;\n",
              "    }\n",
              "\n",
              "    [theme=dark] .colab-df-convert {\n",
              "      background-color: #3B4455;\n",
              "      fill: #D2E3FC;\n",
              "    }\n",
              "\n",
              "    [theme=dark] .colab-df-convert:hover {\n",
              "      background-color: #434B5C;\n",
              "      box-shadow: 0px 1px 3px 1px rgba(0, 0, 0, 0.15);\n",
              "      filter: drop-shadow(0px 1px 2px rgba(0, 0, 0, 0.3));\n",
              "      fill: #FFFFFF;\n",
              "    }\n",
              "  </style>\n",
              "\n",
              "      <script>\n",
              "        const buttonEl =\n",
              "          document.querySelector('#df-4dfaead3-21d6-4eea-b5d7-2a167a67ba1b button.colab-df-convert');\n",
              "        buttonEl.style.display =\n",
              "          google.colab.kernel.accessAllowed ? 'block' : 'none';\n",
              "\n",
              "        async function convertToInteractive(key) {\n",
              "          const element = document.querySelector('#df-4dfaead3-21d6-4eea-b5d7-2a167a67ba1b');\n",
              "          const dataTable =\n",
              "            await google.colab.kernel.invokeFunction('convertToInteractive',\n",
              "                                                     [key], {});\n",
              "          if (!dataTable) return;\n",
              "\n",
              "          const docLinkHtml = 'Like what you see? Visit the ' +\n",
              "            '<a target=\"_blank\" href=https://colab.research.google.com/notebooks/data_table.ipynb>data table notebook</a>'\n",
              "            + ' to learn more about interactive tables.';\n",
              "          element.innerHTML = '';\n",
              "          dataTable['output_type'] = 'display_data';\n",
              "          await google.colab.output.renderOutput(dataTable, element);\n",
              "          const docLink = document.createElement('div');\n",
              "          docLink.innerHTML = docLinkHtml;\n",
              "          element.appendChild(docLink);\n",
              "        }\n",
              "      </script>\n",
              "    </div>\n",
              "  </div>\n",
              "  "
            ]
          },
          "metadata": {},
          "execution_count": 178
        }
      ],
      "source": [
        "user_encoding_df=pd.DataFrame(user_df['code'])\n",
        "user_encoding_df=user_encoding_df.drop_duplicates(subset=['code'])\n",
        "user_encoding_df['sum_encoding']=user_encoding_df['code'].apply(get_user_orders_sum_encoding)\n",
        "user_encoding_df['avg_encoding']=user_encoding_df['code'].apply(get_user_orders_avg_encoding)\n",
        "user_encoding_df['sum_t']=user_encoding_df['sum_encoding'].apply(lambda x: isinstance(x,int))\n",
        "user_encoding_df=user_encoding_df[user_encoding_df.sum_t==False]\n",
        "user_encoding_df=user_encoding_df.set_index('code')\n",
        "user_encoding_df=user_encoding_df.drop(columns=['sum_t'])\n",
        "user_encoding_df"
      ]
    },
    {
      "cell_type": "markdown",
      "source": [
        "<div dir=rtl>\n",
        "چون در سیستم توصیه گر نوشته شده رویکرد ترکیبی پیش گرفته شده است، نیاز است که n کاربر مشابه بدست آیند؛ بدین منظور تابعی نوشتیم که با استفاده از encoding نوع حاصل جمع و فاصله کسینوسی بین آنها n کاربر مشابه را پیدا میکند.\n",
        "</div>"
      ],
      "metadata": {
        "id": "7WBtjYIqZCDi"
      }
    },
    {
      "cell_type": "code",
      "execution_count": null,
      "metadata": {
        "id": "Jpdm2o7UMDZv"
      },
      "outputs": [],
      "source": [
        "def get_most_similar_users(user_id, n):\n",
        "  current_user_sum_encoding=user_encoding_df.loc[user_id,'sum_encoding']\n",
        "  current_user_df=user_encoding_df[user_encoding_df.index!=user_id]\n",
        "  current_user_df['similarity']=current_user_df['sum_encoding'].apply(lambda x: cosine_similarity(x,current_user_sum_encoding))\n",
        "  current_user_df=current_user_df.sort_values(by='similarity', ascending=False)\n",
        "  return list(current_user_df.iloc[:n].index)"
      ]
    },
    {
      "cell_type": "code",
      "source": [
        "get_most_similar_users(49723,5)"
      ],
      "metadata": {
        "colab": {
          "base_uri": "https://localhost:8080/"
        },
        "id": "9_iyXNLvxtH0",
        "outputId": "e1cd2494-6edd-4195-d64a-5144ab08ec57"
      },
      "execution_count": null,
      "outputs": [
        {
          "output_type": "stream",
          "name": "stderr",
          "text": [
            "<ipython-input-181-573c024e20b1>:4: SettingWithCopyWarning: \n",
            "A value is trying to be set on a copy of a slice from a DataFrame.\n",
            "Try using .loc[row_indexer,col_indexer] = value instead\n",
            "\n",
            "See the caveats in the documentation: https://pandas.pydata.org/pandas-docs/stable/user_guide/indexing.html#returning-a-view-versus-a-copy\n",
            "  current_user_df['similarity']=current_user_df['sum_encoding'].apply(lambda x: cosine_similarity(x,current_user_sum_encoding))\n"
          ]
        },
        {
          "output_type": "execute_result",
          "data": {
            "text/plain": [
              "[49050, 49284, 31336, 2138, 35481]"
            ]
          },
          "metadata": {},
          "execution_count": 217
        }
      ]
    },
    {
      "cell_type": "markdown",
      "source": [
        "<div dir=rtl>\n",
        "در نهایت باید تابعی بنویسیم که طبق n کاربر مشابه و کالاهای خریداری شده توسط آنها، کالا‌های جدیدی را به کاربر توصیه کند. بدین منظور در این تابع ابتدا n کاربر مشابه را توسط تابع نوشته شده در قسمت قبل پیدا میکند؛ در ادامه تمامی کالا‌های خریداری شده توسط آنها که کاربر کنونی خریداری نکرده را در یک لیست ذخیره می‌کند. سپس آنها را بر اساس مشابهت با encoding مبتنی بر میانگین کاربر مرتب میکند و بر اساس مشابهت m کالای مشابه را برمیگرداند.\n",
        "</div>"
      ],
      "metadata": {
        "id": "OQSnJ6vaZa9f"
      }
    },
    {
      "cell_type": "code",
      "source": [
        "def get_most_similar_items(user_id,similar_users_number ,similar_items_number):\n",
        "  current_user_avg_encoding=user_encoding_df.loc[user_id,'avg_encoding']\n",
        "  similar_users=get_most_similar_users(user_id,similar_users_number)\n",
        "  recommended_items={}\n",
        "  for user in similar_users:\n",
        "    for item in user_purchases[user]:\n",
        "      if(not item in user_purchases[user_id]):\n",
        "        recommended_items[item]=cosine_similarity(item_df.loc[item]['one_hot'],current_user_avg_encoding)\n",
        "  recommended_items=dict(sorted(recommended_items.items(), key=lambda item: item[1],reverse=True))\n",
        "  return list(recommended_items.keys())[:similar_items_number]"
      ],
      "metadata": {
        "id": "W2NpslzasRXj"
      },
      "execution_count": null,
      "outputs": []
    },
    {
      "cell_type": "code",
      "source": [
        "get_most_similar_items(49723,10,5)"
      ],
      "metadata": {
        "id": "f686Fafrx_uk",
        "outputId": "999089ff-dc37-4e0f-b3fe-d8a63d2c7003",
        "colab": {
          "base_uri": "https://localhost:8080/"
        }
      },
      "execution_count": null,
      "outputs": [
        {
          "output_type": "stream",
          "name": "stderr",
          "text": [
            "<ipython-input-181-573c024e20b1>:4: SettingWithCopyWarning: \n",
            "A value is trying to be set on a copy of a slice from a DataFrame.\n",
            "Try using .loc[row_indexer,col_indexer] = value instead\n",
            "\n",
            "See the caveats in the documentation: https://pandas.pydata.org/pandas-docs/stable/user_guide/indexing.html#returning-a-view-versus-a-copy\n",
            "  current_user_df['similarity']=current_user_df['sum_encoding'].apply(lambda x: cosine_similarity(x,current_user_sum_encoding))\n"
          ]
        },
        {
          "output_type": "execute_result",
          "data": {
            "text/plain": [
              "[23003, 23002, 19497, 19632, 19633]"
            ]
          },
          "metadata": {},
          "execution_count": 219
        }
      ]
    }
  ],
  "metadata": {
    "colab": {
      "provenance": [],
      "include_colab_link": true
    },
    "kernelspec": {
      "display_name": "Python 3",
      "name": "python3"
    },
    "language_info": {
      "name": "python"
    }
  },
  "nbformat": 4,
  "nbformat_minor": 0
}